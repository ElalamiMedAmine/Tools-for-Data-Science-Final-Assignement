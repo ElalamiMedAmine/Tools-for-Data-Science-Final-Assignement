{
 "cells": [
  {
   "cell_type": "markdown",
   "id": "f32fe72c",
   "metadata": {},
   "source": [
    "# Data science Tools and Ecosystem"
   ]
  },
  {
   "cell_type": "markdown",
   "id": "c2874349",
   "metadata": {},
   "source": [
    "In this notebook, Data Science Tools and Ecosystem are summarized."
   ]
  },
  {
   "cell_type": "markdown",
   "id": "e8173b99",
   "metadata": {},
   "source": [
    "Some of the languages that Data Scientists use are:\n",
    "    \n",
    "    1. R\n",
    "    2. Python\n",
    "    3. SQL\n",
    "    4. C++\n",
    "    5. JAVA"
   ]
  },
  {
   "cell_type": "markdown",
   "id": "25a25945",
   "metadata": {},
   "source": [
    "Some of the commonly used libraries used by Data Scientists are:\n",
    "    \n",
    "    1. Numpy\n",
    "    2. SciPy\n",
    "    3. Pandas\n",
    "    4. TensorFlow\n",
    "    5. Matplotlib\n",
    "    6. Keras\n",
    "    7. SciKit-Learn\n",
    "    8. PyTorch "
   ]
  },
  {
   "cell_type": "markdown",
   "id": "70e1fe09",
   "metadata": {},
   "source": [
    "|Data Science Tools|\n",
    "|---|\n",
    "|SAS|\n",
    "|Apache Hadoop|\n",
    "|TensorFlow|"
   ]
  },
  {
   "cell_type": "markdown",
   "id": "82bba092",
   "metadata": {},
   "source": [
    "### Below are some examples of evaluating arithmetic expressions in Python."
   ]
  },
  {
   "cell_type": "code",
   "execution_count": 3,
   "id": "c0b4fdcf",
   "metadata": {},
   "outputs": [
    {
     "data": {
      "text/plain": [
       "18"
      ]
     },
     "execution_count": 3,
     "metadata": {},
     "output_type": "execute_result"
    }
   ],
   "source": [
    "#this is a common arithmetic example to multiply and then add integers\n",
    "(3*4)+6"
   ]
  },
  {
   "cell_type": "code",
   "execution_count": 4,
   "id": "b38c1f87",
   "metadata": {},
   "outputs": [
    {
     "data": {
      "text/plain": [
       "180"
      ]
     },
     "execution_count": 4,
     "metadata": {},
     "output_type": "execute_result"
    }
   ],
   "source": [
    "#this will convert 3 hours to mintues\n",
    "3*60"
   ]
  },
  {
   "cell_type": "markdown",
   "id": "9864b1a2",
   "metadata": {},
   "source": [
    "__Objective__\n",
    "* List popular languages for Data Science\n",
    "* List popular libraries for Data Science\n",
    "* List of Well known Data Science Tools\n",
    "* How to Provide comments in the cell"
   ]
  },
  {
   "cell_type": "markdown",
   "id": "acf2f86a",
   "metadata": {},
   "source": [
    "## Author\n",
    "\n",
    "Elalami Mohamed Amine"
   ]
  }
 ],
 "metadata": {
  "kernelspec": {
   "display_name": "Python 3 (ipykernel)",
   "language": "python",
   "name": "python3"
  },
  "language_info": {
   "codemirror_mode": {
    "name": "ipython",
    "version": 3
   },
   "file_extension": ".py",
   "mimetype": "text/x-python",
   "name": "python",
   "nbconvert_exporter": "python",
   "pygments_lexer": "ipython3",
   "version": "3.11.5"
  }
 },
 "nbformat": 4,
 "nbformat_minor": 5
}
